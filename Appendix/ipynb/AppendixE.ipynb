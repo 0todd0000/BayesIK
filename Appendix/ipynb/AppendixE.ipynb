{
 "cells": [
  {
   "cell_type": "markdown",
   "metadata": {},
   "source": [
    "# APPENDIX E: Pose estimate errors for two- and three-link kinematic chains\n",
    "\n",
    "<br>\n",
    "<br>\n",
    "\n",
    "\n",
    "\n",
    "<div class=\"alert alert-warning\">\n",
    "\n",
    "**Note:** This notebook was updated on 2021-05-18.  Previous versions of this notebook contained results which were erroneously derived from highly informative prior distributions for Bayesian IK calculations. These errors have been corrected, and updates results are pasted below. For additional details please refer to Pohl et al. (2021).\n",
    "    \n",
    "<br> \n",
    "\n",
    "Pohl AJ, MR Schofield, R Ferber (2021). Examination of a Bayesian approach to inverse kinematics. *J Biomech*, in press.\n",
    "\n",
    "\n",
    "</div>\n",
    "\n",
    "<br>\n",
    "<br>\n"
   ]
  },
  {
   "cell_type": "markdown",
   "metadata": {},
   "source": [
    "\n",
    "<img src=\"figs/error-2-link.png\" width=\"600\">\n",
    "\n",
    "**Figure E1**.  Two-link kinematic chain pose estimate errors."
   ]
  },
  {
   "cell_type": "markdown",
   "metadata": {},
   "source": [
    "<img src=\"figs/error-3-link.png\" width=\"800\">\n",
    "\n",
    "**Figure E2**.  Three-link kinematic chain pose estimate errors."
   ]
  }
 ],
 "metadata": {
  "kernelspec": {
   "display_name": "Python 3",
   "language": "python",
   "name": "python3"
  },
  "language_info": {
   "codemirror_mode": {
    "name": "ipython",
    "version": 3
   },
   "file_extension": ".py",
   "mimetype": "text/x-python",
   "name": "python",
   "nbconvert_exporter": "python",
   "pygments_lexer": "ipython3",
   "version": "3.7.7"
  }
 },
 "nbformat": 4,
 "nbformat_minor": 1
}
