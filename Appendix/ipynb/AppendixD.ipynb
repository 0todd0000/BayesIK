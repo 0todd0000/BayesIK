{
 "cells": [
  {
   "cell_type": "markdown",
   "metadata": {},
   "source": [
    "$\\newcommand{\\myvector}[2]{\\left\\{ \\begin{array}{c}#1\\\\#2\\end{array} \\right\\}}$\n",
    "$\\newcommand{\\mymatrix}[4]{\\left[ \\begin{array}{c}#1&#2\\\\#3&#4\\end{array} \\right]}$\n",
    "$\\newcommand{\\sM}[1]{\\boldsymbol{s}_{\\mathrm{M#1}}}$\n",
    "$\\newcommand{\\rvector}[1]{\\boldsymbol{r}_{\\mathrm{#1}}}$"
   ]
  },
  {
   "cell_type": "markdown",
   "metadata": {},
   "source": [
    "# APPENDIX D:  Bayesian and least-squares results <span style=\"color:red\">lack of</span> divergence\n",
    "\n",
    "\n",
    "<br>\n",
    "<br>\n",
    "\n",
    "<div class=\"alert alert-info\">\n",
    "\n",
    "**Note:** This notebook was updated on 2021-05-18.  Previous versions of this notebook erroneously used a highly informative prior distribution for Bayesian IK calculations. This error has been corrected below in the [Systematic Approach Comparison](#systematic_approach_comparison) section. Corrected text has been <span style=\"color:red\">highlighted in red</span>. For additional details please refer to Pohl et al. (2021) and also to the new Appendix F.\n",
    "    \n",
    "<br> \n",
    "\n",
    "Pohl AJ, MR Schofield, R Ferber (2021). Examination of a Bayesian approach to inverse kinematics. *J Biomech*, in press.\n",
    "\n",
    "</div>\n",
    "\n",
    "<br>\n",
    "<br>\n",
    "\n",
    "\n",
    "This Appendix <span style=\"color:red\">originally described</span> a minimal inverse kinematics model for which Bayesian and least-sqaures results <span style=\"color:red\">diverged. However, this divergence was caused by overly informative prior distributions. In interest of consistency with the previous Appendix D, this notebook makes minimal adjustments. Please refer to Pohl et al. (2021) and the new Appendix F for detailed explanations.</span>\n",
    "\n",
    "<br>\n",
    "<br>\n",
    "\n"
   ]
  },
  {
   "cell_type": "markdown",
   "metadata": {},
   "source": [
    "### Model\n",
    "\n",
    "The planar mechanism depicted below has two degrees of freedom (DOF): one translational and one rotational. The first (slider) segment moves to a position $y$ and the second segment rotates about point A to an angle $\\theta$. Two markers (M1 and M2) are rigidly fixed to the rotating segment and have fixed local positions:  $\\sM{1} = \\myvector{35}{0}$ and $\\sM{2} = \\myvector{45}{0}$.\n",
    "\n",
    "<br>\n",
    "<br>\n",
    "\n",
    "<center><img src=\"figs/rotating_slider.png\" width=\"450\"></center>\n",
    "\n",
    "<br>\n",
    "<br>\n",
    "\n",
    "The three points' true global positions are:\n",
    "\n",
    "\\begin{align}\n",
    "\\rvector{A} &= \\myvector{0}{y}\\\\ \\\\\n",
    "\\rvector{M1} &= \\rvector{A} + \\boldsymbol{R} \\ \\sM{1}\\\\ \\\\\n",
    "\\rvector{M2} &= \\rvector{A} + \\boldsymbol{R} \\ \\sM{2}\n",
    "\\end{align}\n",
    "\n",
    "where $\\boldsymbol{R}$ is the rotation matrix:\n",
    "\n",
    "\\begin{equation}\n",
    "\\boldsymbol{R} = \\mymatrix{\\cos\\theta}{-\\sin\\theta}{\\sin\\theta}{\\cos\\theta}\n",
    "\\end{equation}\n",
    "\n",
    "### Inverse kinematics (IK) problem\n",
    "\n",
    "Imagine that we have measured the following marker positions:\n",
    "\n",
    "\\begin{align}\n",
    "\\rvector{M1}' &= \\myvector{33.51}{12.11}\\\\ \\\\\n",
    "\\rvector{M2}' &= \\myvector{42.63}{16.18}\n",
    "\\end{align}\n",
    "\n",
    "The IK problem is to estimate $y$ and $\\theta$ given these measurements.\n",
    "\n",
    "For argument's sake let's say we also happen to know that the true values of the unknown variables are: $y$ = 0 and $\\theta$ = 20 deg. In this case the true global marker positions are:\n",
    "\n",
    "\\begin{align}\n",
    "\\rvector{M1} &= \\myvector{32.89}{11.97}\\\\ \\\\\n",
    "\\rvector{M2} &= \\myvector{42.29}{15.39}\n",
    "\\end{align}\n",
    "\n",
    "Let's assemble everything we know into Python for later use in our IK solutions.\n",
    "\n"
   ]
  },
  {
   "cell_type": "code",
   "execution_count": 1,
   "metadata": {},
   "outputs": [
    {
     "data": {
      "image/png": "[encoded data removed]",
      "text/plain": [
       "<Figure size 432x288 with 1 Axes>"
      ]
     },
     "metadata": {
      "needs_background": "light"
     },
     "output_type": "display_data"
    }
   ],
   "source": [
    "%matplotlib inline\n",
    "\n",
    "from math import sin,cos,radians,degrees\n",
    "import numpy as np\n",
    "from matplotlib import pyplot\n",
    "\n",
    "#(0) Define known values:\n",
    "### local positions:\n",
    "sM1        = np.array([35.0, 0.0])\n",
    "sM2        = np.array([45.0, 0.0])\n",
    "### measurements:\n",
    "rpM1       = np.array([33.51, 12.11])\n",
    "rpM2       = np.array([42.63, 16.18])\n",
    "### true values: (not used in IK solutions, but useful for visualization)\n",
    "y_true     = 0.0\n",
    "theta_true = radians(20)\n",
    "\n",
    "\n",
    "\n",
    "#(1) Compute global marker positions given y and theta:\n",
    "def rotation_matrix(theta):\n",
    "    '''Construct rotation matrix'''\n",
    "    c,s    = cos(theta), sin(theta)\n",
    "    R      = np.matrix(  [[c, -s], [s, c]] )\n",
    "    return R\n",
    "\n",
    "def rotate(R, r):\n",
    "    '''Rotate a position vector r using rotation matrix R'''\n",
    "    return np.asarray(  (R * np.mat(r).T)  ).flatten()\n",
    "\n",
    "def get_positions(y, theta):\n",
    "    '''Compute global marker positions given y and theta'''\n",
    "    rA     = np.array([0, y])       #global A position\n",
    "    R      = rotation_matrix(theta)\n",
    "    rM1    = rA + rotate(R, sM1)    #global M1 position\n",
    "    rM2    = rA + rotate(R, sM2)    #global M2 position\n",
    "    return rM1,rM2\n",
    "\n",
    "rM1,rM2    = get_positions(y_true, theta_true)\n",
    "\n",
    "\n",
    "\n",
    "#(2) Plot:\n",
    "pyplot.figure()\n",
    "ax = pyplot.axes()\n",
    "ax.plot(rM1[0],  rM1[1],  'o', markeredgecolor='k', markerfacecolor='w', ms=40)\n",
    "ax.plot(rM2[0],  rM2[1],  'o', markeredgecolor='k', markerfacecolor='w', ms=40)\n",
    "ax.plot(rpM1[0], rpM1[1], 'o', markeredgecolor='r', markerfacecolor='r', ms=20)\n",
    "ax.plot(rpM2[0], rpM2[1], 'o', markeredgecolor='r', markerfacecolor='r', ms=20)\n",
    "ax.text(33, 11, 'True position',     color='k', size=14)\n",
    "ax.text(34, 12, 'Measured position', color='r', size=14)\n",
    "ax.set_xlabel('Global X position  (mm)', size=18)\n",
    "ax.set_ylabel('Global Y position  (mm)', size=18)\n",
    "pyplot.axis('equal')\n",
    "pyplot.show()"
   ]
  },
  {
   "cell_type": "markdown",
   "metadata": {},
   "source": [
    "# Least-squares solution\n",
    "\n",
    "This IK problem is relatively simple, so it could be solved using an analytical approach similar to the one presented in Appendix B. However, we'll be a bit lazy and instead solve the IK problem numerically, using the \"get_positions\" function that we've already written above.\n",
    "\n",
    "Once we set values for $y$ and $\\theta$ we know the global positions of $\\rvector{M1}$ and $\\rvector{M2}$, so we can compute the difference between those positions and our measurements as:\n",
    "\n",
    "\\begin{align}\n",
    "\\boldsymbol{\\epsilon}_1 &= \\rvector{M1}' - \\rvector{M1}\\\\\n",
    "\\boldsymbol{\\epsilon}_2 &= \\rvector{M2}' - \\rvector{M2}\n",
    "\\end{align}\n",
    "\n",
    "We can then express total measurement error as follows:\n",
    "\n",
    "\n",
    "\\begin{equation}\n",
    "f(y, \\theta) =\n",
    "\\big| \\ \\boldsymbol{\\epsilon}_1 \\ \\big| \\ ^2 \\\n",
    "+ \\\n",
    "\\big| \\ \\boldsymbol{\\epsilon}_2 \\ \\big| \\ ^2\n",
    "\\end{equation}\n",
    "\n",
    "Although we have called $f(y, \\theta)$ a \"measurement error\" function, the opposite perspective is equally apt: \"guess error\".  That is, if we know our measurement values ($\\rvector{M1}'$, $\\rvector{M2}'$) and then use $y$ and $\\theta$ to guess the true marker positions ($\\rvector{M1}$, $\\rvector{M2}$), then $f(y, \\theta)$ represents our guess error. We nevertheless use \"measurement error\" below because we presume there is no guess which can yield zero error. \n",
    "\n",
    "For later purposes let's bundle our two unknown variables into a generalized \"unknowns\" vector $\\boldsymbol{x}$ as follows:\n",
    "\n",
    "\n",
    "\\begin{align}\n",
    "\\boldsymbol{x} = \\myvector{y}{\\theta}\n",
    "\\end{align}\n",
    "\n",
    "Now our error function is:\n",
    "\n",
    "\\begin{align}\n",
    "f(\\boldsymbol{x}) =\n",
    "\\big| \\ \\boldsymbol{\\epsilon}_1 \\ \\big| \\ ^2 \\\n",
    "+ \\\n",
    "\\big| \\ \\boldsymbol{\\epsilon}_2 \\ \\big| \\ ^2\n",
    "\\end{align}\n",
    "\n",
    "Let's implement this function in Python and then explore its output to make sure it's returning reasonable values.\n"
   ]
  },
  {
   "cell_type": "code",
   "execution_count": 2,
   "metadata": {},
   "outputs": [
    {
     "name": "stdout",
     "output_type": "stream",
     "text": [
      "1.145633045191809\n"
     ]
    }
   ],
   "source": [
    "def measurement_error(x):\n",
    "    y,theta = x \n",
    "    rM1,rM2 = get_positions(y, theta)\n",
    "    e1,e2   = rpM1 - rM1, rpM2 - rM2\n",
    "    e1,e2   = np.linalg.norm(e1), np.linalg.norm(e2)\n",
    "    f       = e1**2 + e2**2\n",
    "    return f\n",
    "\n",
    "x = [0, radians(20)]\n",
    "print( measurement_error(x) )"
   ]
  },
  {
   "cell_type": "markdown",
   "metadata": {},
   "source": [
    "Here the total measurement error is 1.146 mm$^2$. By moving to a different vertical position (e.g. $y$=2) or a different angular position ($\\theta$=10 deg) we see that measurement error increases:"
   ]
  },
  {
   "cell_type": "code",
   "execution_count": 3,
   "metadata": {},
   "outputs": [
    {
     "name": "stdout",
     "output_type": "stream",
     "text": [
      "5.4320789094058\n",
      "110.13801125048406\n"
     ]
    }
   ],
   "source": [
    "print(   measurement_error( [2, radians(20)] )   )\n",
    "print(   measurement_error( [0, radians(10)] )   )"
   ]
  },
  {
   "cell_type": "markdown",
   "metadata": {},
   "source": [
    "Since we can compute the error function $f(y,\\theta)$ for arbitrary $y$ and $\\theta$ values we can view it as a three-dimensional surface as follows:"
   ]
  },
  {
   "cell_type": "code",
   "execution_count": 4,
   "metadata": {},
   "outputs": [
    {
     "data": {
      "image/png": "[encoded data removed]",
      "text/plain": [
       "<Figure size 432x288 with 1 Axes>"
      ]
     },
     "metadata": {
      "needs_background": "light"
     },
     "output_type": "display_data"
    }
   ],
   "source": [
    "from matplotlib import cm\n",
    "from mpl_toolkits.mplot3d import Axes3D\n",
    "\n",
    "\n",
    "### Compute error for a range of y and theta values:\n",
    "Y       = np.linspace(-2, 5, 41)\n",
    "THETA   = np.radians( np.linspace(14, 23, 41) )\n",
    "Y,THETA = np.meshgrid(Y, THETA)\n",
    "F       = [measurement_error(x)   for x in zip(Y.flatten(), THETA.flatten())]\n",
    "F       = np.reshape(F, Y.shape)\n",
    "F[F>4]  = 4  #cap all values at 4 to more clearly see the function's minimum\n",
    "\n",
    "\n",
    "### Plot:\n",
    "fig     = pyplot.figure()\n",
    "ax      = fig.gca(projection='3d')\n",
    "ax.plot_surface(Y, np.degrees(THETA), F, cmap=cm.jet, rstride=1, cstride=1, linewidth=0.2)\n",
    "ax.set_xlabel(r'$y$  (mm)', size=18)\n",
    "ax.set_ylabel(r'$\\theta$  (deg)', size=18)\n",
    "ax.set_zlabel(r'$f(y, \\theta)$', size=18)\n",
    "pyplot.show()"
   ]
  },
  {
   "cell_type": "markdown",
   "metadata": {},
   "source": [
    "In the figure above it appears that our error function's minimum value occurs for approximately $y$=1.5 and $\\theta$=19, but let's find its minimum value algorithmically using **scipy.optimize.minimize** as follows:"
   ]
  },
  {
   "cell_type": "code",
   "execution_count": 5,
   "metadata": {},
   "outputs": [
    {
     "name": "stdout",
     "output_type": "stream",
     "text": [
      "Least-squares estimates:\n",
      "   y     = 1.321\n",
      "   theta = 18.700\n"
     ]
    }
   ],
   "source": [
    "from scipy import optimize\n",
    "\n",
    "x0       = [0, radians(20)]  #initial (y, theta) guess\n",
    "results  = optimize.minimize(measurement_error, x0)\n",
    "\n",
    "print('Least-squares estimates:')\n",
    "print('   y     = %.3f' %results.x[0])\n",
    "print('   theta = %.3f' %degrees(results.x[1]) )"
   ]
  },
  {
   "cell_type": "markdown",
   "metadata": {},
   "source": [
    "Due to measurement error our final estimates for $y$ and $\\theta$ are slightly different from their true values ($y$=0, $\\theta$=20)."
   ]
  },
  {
   "cell_type": "markdown",
   "metadata": {},
   "source": [
    "# Bayesian approach\n",
    "\n",
    "The figure below depicts a stochastic forward-kinematics model for this system.  Once the numerical values of $y$ and $\\theta$ are known we know the values of our deterministic variables $\\rvector{M1}$ and $\\rvector{M2}$.  Similarly, once the numerical value of our measurement error $\\epsilon$ is known we will also know the value of our generalized measurement vector $\\boldsymbol{q}$, where $\\boldsymbol{q}$ contains all four measured coordinates from $\\rvector{M1}'$ and $\\rvector{M2}'$. Let's implement this model in PyMC.\n",
    "\n",
    "<img src=\"figs/bikmodel2.png\" width=\"300\">"
   ]
  },
  {
   "cell_type": "code",
   "execution_count": 6,
   "metadata": {},
   "outputs": [],
   "source": [
    "import pymc\n",
    "\n",
    "\n",
    "q_observed = np.asarray([rpM1, rpM2]).flatten() #measured positions\n",
    "tau        = 20  #presumed measurement precision (we'll relax this later)\n",
    "y          = pymc.Normal(\"y\", 0, 1)  #prior for y\n",
    "theta      = pymc.Uniform(\"theta\", radians(-45), radians(45))  #prior for theta\n",
    "\n",
    "\n",
    "@pymc.deterministic\n",
    "def observations_model(y=y, theta=theta):\n",
    "    rM1,rM2 = get_positions(y, theta)\n",
    "    q       = np.asarray([rM1, rM2]).flatten()\n",
    "    return q\n",
    "q_model   = pymc.Normal(\"q\", observations_model, tau, value=q_observed, observed=True)"
   ]
  },
  {
   "cell_type": "markdown",
   "metadata": {},
   "source": [
    "Now that we have a model of our observations we can set values for $y$ and $\\theta$ and then check what kinds of results our model produces."
   ]
  },
  {
   "cell_type": "code",
   "execution_count": 7,
   "metadata": {},
   "outputs": [
    {
     "name": "stdout",
     "output_type": "stream",
     "text": [
      "[32.99941182 12.00754189 42.07943539 15.2370373 ]\n",
      "[32.90132008 11.85785493 41.9218965  15.34236793]\n",
      "[32.65119733 12.20083499 42.50388501 15.61976264]\n"
     ]
    }
   ],
   "source": [
    "y.set_value(0)\n",
    "theta.set_value( radians(20) )\n",
    "print( q_model.random() )\n",
    "print( q_model.random() )\n",
    "print( q_model.random() )"
   ]
  },
  {
   "cell_type": "markdown",
   "metadata": {},
   "source": [
    "The first two columns represent $\\rvector{M1}'$ and the last two columns represent $\\rvector{M2}'$.  We can see that these values are similar to our actual measured values, so our model appears to have been specified correctly. \n",
    "\n",
    "Variability exists in these values because we have not set the value of our last stochastic variable ($\\epsilon$); this variability is built into the model above via the parameter \"tau\" which specifies our measurement precision.  If we raise tau to a very high value we will see that the model's results become much less variable."
   ]
  },
  {
   "cell_type": "code",
   "execution_count": 8,
   "metadata": {},
   "outputs": [
    {
     "name": "stdout",
     "output_type": "stream",
     "text": [
      "[32.88922646 11.97069963 42.28610841 15.39090322]\n",
      "[32.88926753 11.97069683 42.28612075 15.39091761]\n",
      "[32.88925811 11.97069876 42.28614937 15.39092467]\n",
      "[32.88921084 11.97069041 42.28619638 15.39091307]\n",
      "[32.88927265 11.97069497 42.28614831 15.39087162]\n"
     ]
    }
   ],
   "source": [
    "tau       = 1e9\n",
    "q_model   = pymc.Normal(\"q\", observations_model, tau, value=q_observed, observed=True)\n",
    "print( q_model.random() )\n",
    "print( q_model.random() )\n",
    "print( q_model.random() )\n",
    "print( q_model.random() )\n",
    "print( q_model.random() )"
   ]
  },
  {
   "cell_type": "markdown",
   "metadata": {},
   "source": [
    "Now let's relax our assumptions regarding tau's true value, then use PyMC to run Markov-Chain Monte-Carlo simulations with the goal of finding posterior distributions for $y$ and $\\theta$ (and tau) which are most consistent with the observed marker positions."
   ]
  },
  {
   "cell_type": "code",
   "execution_count": 9,
   "metadata": {},
   "outputs": [
    {
     "name": "stdout",
     "output_type": "stream",
     "text": [
      " [-----------------100%-----------------] 40000 of 40000 complete in 7.7 sec\n",
      "\n",
      "Bayesian estimates:\n",
      "   y     = 1.073\n",
      "   theta = 19.029\n"
     ]
    }
   ],
   "source": [
    "tau        = pymc.Normal(\"tau\", 20, 1)  #prior for measurement precision\n",
    "y          = pymc.Normal(\"y\", 0, 1)     #prior for y\n",
    "theta      = pymc.Uniform(\"theta\", radians(-45), radians(45))  #prior for theta\n",
    "\n",
    "@pymc.deterministic\n",
    "def observations_model(y=y, theta=theta):\n",
    "    rM1,rM2 = get_positions(y, theta)\n",
    "    q       = np.asarray([rM1, rM2]).flatten()\n",
    "    return q\n",
    "q_model   = pymc.Normal(\"q\", observations_model, tau, value=q_observed, observed=True)\n",
    "\n",
    "\n",
    "mcmc      = pymc.MCMC([q_model, y, theta, tau])\n",
    "mcmc.sample(40000, 20000)\n",
    "Y         = mcmc.trace('y')[:]\n",
    "THETA     = np.degrees( mcmc.trace('theta')[:] )\n",
    "TAU       = np.degrees( mcmc.trace('tau')[:] )\n",
    "\n",
    "print('\\n\\nBayesian estimates:')\n",
    "print('   y     = %.3f' %Y.mean() )\n",
    "print('   theta = %.3f' %THETA.mean() )"
   ]
  },
  {
   "cell_type": "markdown",
   "metadata": {},
   "source": [
    "Our Bayesian estimates for $y$ and $\\theta$ are somewhat closer to their true values than are our least-squares estimates. But this is just for one case.  Let's now compare the two approaches' results more systematically."
   ]
  },
  {
   "cell_type": "markdown",
   "metadata": {},
   "source": [
    "<a name=\"systematic_approach_comparison\"></a>\n",
    "# Systematic approach comparison\n",
    "\n",
    "\n",
    "First let's pick some new true values for $y$ and $\\theta$ and then generate ten random datasets based on those true values."
   ]
  },
  {
   "cell_type": "code",
   "execution_count": 10,
   "metadata": {},
   "outputs": [
    {
     "name": "stdout",
     "output_type": "stream",
     "text": [
      "[[35.74884061  3.1505296  45.31813041  4.94245502]\n",
      " [35.80059343  2.46181206 45.30380562  3.74632982]\n",
      " [34.81520501  3.15575025 44.9007832   4.54914518]\n",
      " [35.2473333   3.0112885  45.05069303  3.98884559]\n",
      " [35.61385397  2.84787186 44.98529526  3.39496055]\n",
      " [33.59031953  3.27726029 45.26097951  3.45092591]\n",
      " [36.00169175  2.22326816 44.85164067  3.7284165 ]\n",
      " [35.63320404  3.68513038 44.90623513  4.01108968]\n",
      " [34.42292156  1.96005276 44.65480534  3.90018291]\n",
      " [35.48195977  3.55164092 44.63509801  3.67085705]]\n"
     ]
    }
   ],
   "source": [
    "y_true      = -0.1\n",
    "theta_true  = radians(5)\n",
    "rM1,rM2     = get_positions(y_true, theta_true) \n",
    "q_true      = np.array([rM1, rM2]).flatten()\n",
    "\n",
    "nIterations = 10\n",
    "noise_amp   = 0.5\n",
    "np.random.seed(0)\n",
    "Q_obs       = q_true + noise_amp * np.random.randn(nIterations, 4)\n",
    "\n",
    "print(Q_obs)"
   ]
  },
  {
   "cell_type": "markdown",
   "metadata": {},
   "source": [
    "These are the ten measurements we'll test. Let's first compute the least-squares solutions for each set of measurements."
   ]
  },
  {
   "cell_type": "code",
   "execution_count": 11,
   "metadata": {},
   "outputs": [
    {
     "name": "stdout",
     "output_type": "stream",
     "text": [
      "Least-squares results:\n",
      "   y     = [ 0.568  0.501 -0.742  0.672  1.625  1.289 -0.372  2.901 -3.663  3.141]\n",
      "   theta = [4.988 3.732 6.596 4.055 2.144 2.974 4.801 1.356 9.488 0.674]\n"
     ]
    }
   ],
   "source": [
    "def measurement_error(x, q_obs):\n",
    "    y,theta = x\n",
    "    rpM1    = q_obs[:2]\n",
    "    rpM2    = q_obs[2:]\n",
    "    rM1,rM2 = get_positions(y, theta)\n",
    "    e1,e2   = rpM1 - rM1, rpM2 - rM2\n",
    "    e1,e2   = np.linalg.norm(e1), np.linalg.norm(e2)\n",
    "    f       = e1**2 + e2**2\n",
    "    return f\n",
    "\n",
    "def solution_ls(q_obs):\n",
    "    x0      = [y_true, theta_true]  #initial (y, theta) guess\n",
    "    results = optimize.minimize(measurement_error, x0, args=(q_obs,))\n",
    "    y,theta = results.x\n",
    "    return y, degrees(theta)\n",
    "\n",
    "np.set_printoptions(precision=3, suppress=True)\n",
    "RESULTS_LS  = np.array([solution_ls(q_obs)  for q_obs in Q_obs])\n",
    "print('Least-squares results:')\n",
    "print('   y     = %s' %RESULTS_LS[:,0])\n",
    "print('   theta = %s' %RESULTS_LS[:,1])"
   ]
  },
  {
   "cell_type": "markdown",
   "metadata": {},
   "source": [
    "<br> \n",
    "<br> \n",
    "\n",
    "Next let's get Bayesian estimates for each dataset.\n",
    "\n",
    "\n",
    "<br> \n",
    "<br> \n",
    "\n",
    "<div class=\"alert alert-info\">\n",
    "\n",
    "**2021-05-14 update:** &nbsp; Code in subsequent cells has been updated. While a variety of minor changes have been made, only one major change has been:  use of less-informative priors  in `solution_bayesian`;  this function now uses only the LS solution and not the true solution to inform the priors. For a more systematic comparison of priors see Appendix F.\n",
    "    \n",
    "</div>\n",
    "\n",
    "<br> \n",
    "<br> \n"
   ]
  },
  {
   "cell_type": "code",
   "execution_count": 12,
   "metadata": {},
   "outputs": [
    {
     "name": "stdout",
     "output_type": "stream",
     "text": [
      "Iteration 1 of 10...\n",
      "   y = 0.572,  theta = 4.991\n",
      "Iteration 2 of 10...\n",
      "   y = 0.515,  theta = 3.716\n",
      "Iteration 3 of 10...\n",
      "   y = -0.816,  theta = 6.715\n",
      "Iteration 4 of 10...\n",
      "   y = 0.591,  theta = 4.171\n",
      "Iteration 5 of 10...\n",
      "   y = 1.732,  theta = 1.978\n",
      "Iteration 6 of 10...\n",
      "   y = 1.198,  theta = 3.120\n",
      "Iteration 7 of 10...\n",
      "   y = -0.354,  theta = 4.773\n",
      "Iteration 8 of 10...\n",
      "   y = 2.892,  theta = 1.368\n",
      "Iteration 9 of 10...\n",
      "   y = -3.630,  theta = 9.439\n",
      "Iteration 10 of 10...\n",
      "   y = 3.171,  theta = 0.640\n"
     ]
    }
   ],
   "source": [
    "def solution_bayesian(q_obs):\n",
    "    qls     = solution_ls( q_obs )  # LS solution (y,theta)\n",
    "    yls     = qls[0]                # LS solution (y)\n",
    "    thetals = radians( qls[1] )     # LS solution (theta)\n",
    "    tau     = pymc.Normal(\"tau\", 1/(noise_amp**2), 1)    # a highly informative prior for noise magnitude\n",
    "    y       = pymc.Normal(\"y\", yls, 1, value=yls)        # a moderately informative prior for y\n",
    "    theta   = pymc.Uniform(\"theta\", thetals-radians(45), thetals+radians(45), value=thetals)  # a moderately informative prior for y\n",
    "\n",
    "    @pymc.deterministic\n",
    "    def observations_model(y=y, theta=theta):\n",
    "        rM1,rM2 = get_positions(y, theta)\n",
    "        q       = np.asarray([rM1, rM2]).flatten()\n",
    "        return q\n",
    "    q_model   = pymc.Normal(\"q\", observations_model, tau, value=q_obs, observed=True)\n",
    "\n",
    "    mcmc      = pymc.MCMC([q_model, y, theta, tau])\n",
    "    mcmc.sample(40000, 20000, progress_bar=False)\n",
    "    Y         = mcmc.trace('y')[:]\n",
    "    THETA     = np.degrees( mcmc.trace('theta')[:] )\n",
    "    \n",
    "    return Y.mean(), THETA.mean()\n",
    "\n",
    "RESULTS_B = np.zeros((nIterations,2))\n",
    "for i,q_obs in enumerate(Q_obs):\n",
    "    print('Iteration %d of %d...' %(i+1, nIterations))\n",
    "    y,theta = solution_bayesian(q_obs)\n",
    "    RESULTS_B[i] = [y, theta]\n",
    "    print('   y = %.3f,  theta = %.3f' %(y,theta))\n"
   ]
  },
  {
   "cell_type": "markdown",
   "metadata": {},
   "source": [
    "Here is a summary of IK error for the two approaches:"
   ]
  },
  {
   "cell_type": "code",
   "execution_count": 13,
   "metadata": {},
   "outputs": [
    {
     "name": "stdout",
     "output_type": "stream",
     "text": [
      "Average absolute error (least-squares):\n",
      "   y: 1.587,  theta: 2.136\n",
      "Average absolute error (Bayesian):\n",
      "   y: 1.587,  theta: 2.140\n"
     ]
    }
   ],
   "source": [
    "x_true   = [y_true, degrees(theta_true)]\n",
    "error_LS = RESULTS_LS - x_true\n",
    "error_B  = RESULTS_B - x_true\n",
    "\n",
    "print('Average absolute error (least-squares):')\n",
    "print('   y: %.3f,  theta: %.3f' %tuple( np.abs(error_LS).mean(axis=0) ) )\n",
    "print('Average absolute error (Bayesian):')\n",
    "print('   y: %.3f,  theta: %.3f' %tuple( np.abs(error_B).mean(axis=0) ) )\n"
   ]
  },
  {
   "cell_type": "markdown",
   "metadata": {},
   "source": [
    "<br>\n",
    "\n",
    "<span style=\"color:red\">On average there is little-to no improvement over the LS solutions.</span>\n",
    "\n",
    "\n",
    "Finally, let's check how the least-squares and Bayesian approaches compare on a case-by-case basis.\n",
    "\n",
    "<br>"
   ]
  },
  {
   "cell_type": "code",
   "execution_count": 14,
   "metadata": {},
   "outputs": [
    {
     "name": "stdout",
     "output_type": "stream",
     "text": [
      "[[-0.004  0.002]\n",
      " [-0.014 -0.016]\n",
      " [-0.073 -0.119]\n",
      " [ 0.081  0.116]\n",
      " [-0.107 -0.166]\n",
      " [ 0.091  0.147]\n",
      " [ 0.018 -0.027]\n",
      " [ 0.01   0.012]\n",
      " [ 0.033  0.049]\n",
      " [-0.03  -0.034]]\n"
     ]
    }
   ],
   "source": [
    "error_difference = np.abs(error_LS) - np.abs(error_B)\n",
    "print(error_difference)"
   ]
  },
  {
   "cell_type": "markdown",
   "metadata": {},
   "source": [
    "Positive values indicate that the least-squares solution had greater error and negative values indicate the opposite.\n",
    "\n",
    "<span style=\"color:red\">This again shows that the Bayesian approach yields little improvement.</span>"
   ]
  },
  {
   "cell_type": "markdown",
   "metadata": {},
   "source": [
    "# Summary\n",
    "\n",
    "This Appendix shows that Bayesian and least-squares (LS) inverse kinematics (IK) estimates <span style=\"color:red\">are not expected to diverge</span> for simple planar rotations. <span style=\"color:red\">Refer to Appendix F for a consideration of how informative priors lead to different results like those reported in the original Appendix D.</span>"
   ]
  }
 ],
 "metadata": {
  "kernelspec": {
   "display_name": "Python 3",
   "language": "python",
   "name": "python3"
  },
  "language_info": {
   "codemirror_mode": {
    "name": "ipython",
    "version": 3
   },
   "file_extension": ".py",
   "mimetype": "text/x-python",
   "name": "python",
   "nbconvert_exporter": "python",
   "pygments_lexer": "ipython3",
   "version": "3.7.7"
  }
 },
 "nbformat": 4,
 "nbformat_minor": 4
}
